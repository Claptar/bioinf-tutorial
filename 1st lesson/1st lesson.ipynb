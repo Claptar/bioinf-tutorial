{
 "cells": [
  {
   "cell_type": "markdown",
   "source": [
    "## Чтение генома из файла"
   ],
   "metadata": {
    "collapsed": false,
    "pycharm": {
     "name": "#%% md\n"
    }
   }
  },
  {
   "cell_type": "code",
   "execution_count": 15,
   "metadata": {
    "collapsed": true,
    "pycharm": {
     "name": "#%%\n"
    }
   },
   "outputs": [
    {
     "data": {
      "text/plain": "'>NC_000913.3 Escherichia coli str. K-12 substr. MG1655, complete genome\\nAGCTTTTCATTCTGACTGCAACGGGCAA'"
     },
     "execution_count": 15,
     "metadata": {},
     "output_type": "execute_result"
    }
   ],
   "source": [
    "# Читаем файл\n",
    "with open(\"e-coli_genome.fna\", 'r') as f:\n",
    "    file = f.read()\n",
    "\n",
    "file[:100]"
   ]
  },
  {
   "cell_type": "code",
   "execution_count": 16,
   "outputs": [
    {
     "data": {
      "text/plain": "'AGCTTTTCATTCTGACTGCAACGGGCAATATGTCTCTGTGTGGATTAAAAAAAGAGTGTCTGATAGCAGCTTCTGAACTG\\nGTTACCTGCCGTGAGTAAA'"
     },
     "execution_count": 16,
     "metadata": {},
     "output_type": "execute_result"
    }
   ],
   "source": [
    "# Уберём первую строчку\n",
    "file.find('\\n')\n",
    "genome = file[72:]\n",
    "genome[:100]"
   ],
   "metadata": {
    "collapsed": false,
    "pycharm": {
     "name": "#%%\n"
    }
   }
  },
  {
   "cell_type": "code",
   "execution_count": 18,
   "outputs": [
    {
     "data": {
      "text/plain": "'AGCTTTTCATTCTGACTGCAACGGGCAATATGTCTCTGTGTGGATTAAAAAAAGAGTGTCTGATAGCAGCTTCTGAACTGGTTACCTGCCGTGAGTAAAT'"
     },
     "execution_count": 18,
     "metadata": {},
     "output_type": "execute_result"
    }
   ],
   "source": [
    "genome = genome.replace('\\n', '')\n",
    "genome[:100]"
   ],
   "metadata": {
    "collapsed": false,
    "pycharm": {
     "name": "#%%\n"
    }
   }
  },
  {
   "cell_type": "markdown",
   "source": [
    "## Поиск ориджина репликации e-coli"
   ],
   "metadata": {
    "collapsed": false,
    "pycharm": {
     "name": "#%% md\n"
    }
   }
  },
  {
   "cell_type": "markdown",
   "source": [
    "### Посмотрим на частоты нуклеотидов в разных регионах генома"
   ],
   "metadata": {
    "collapsed": false,
    "pycharm": {
     "name": "#%% md\n"
    }
   }
  },
  {
   "cell_type": "code",
   "execution_count": 19,
   "outputs": [],
   "source": [
    "import matplotlib.pyplot as plt\n",
    "import numpy as np"
   ],
   "metadata": {
    "collapsed": false,
    "pycharm": {
     "name": "#%%\n"
    }
   }
  },
  {
   "cell_type": "code",
   "execution_count": 148,
   "outputs": [],
   "source": [
    "counts = {key: [] for key in ['A', 'C', 'T', 'G']}\n",
    "N = len(genome)\n",
    "step = N // 46\n",
    "\n",
    "for i in range(45):\n",
    "    for key in counts.keys():\n",
    "        nuc_count = genome[step * i: step * (i + 1)].count(key)\n",
    "        counts[key].append(nuc_count)"
   ],
   "metadata": {
    "collapsed": false,
    "pycharm": {
     "name": "#%%\n"
    }
   }
  },
  {
   "cell_type": "code",
   "execution_count": 161,
   "outputs": [
    {
     "data": {
      "text/plain": "<Figure size 432x288 with 1 Axes>",
      "image/png": "[encoded data removed]"
     },
     "metadata": {
      "needs_background": "light"
     },
     "output_type": "display_data"
    }
   ],
   "source": [
    "bins = np.linspace(1, N, 46)\n",
    "plt.hist(x=bins[:-1], bins=bins, weights=counts['A']);"
   ],
   "metadata": {
    "collapsed": false,
    "pycharm": {
     "name": "#%%\n"
    }
   }
  },
  {
   "cell_type": "code",
   "execution_count": 150,
   "outputs": [],
   "source": [
    "percents = {key: np.array(value) / step for key, value in counts.items()}"
   ],
   "metadata": {
    "collapsed": false,
    "pycharm": {
     "name": "#%%\n"
    }
   }
  },
  {
   "cell_type": "code",
   "execution_count": 163,
   "outputs": [
    {
     "data": {
      "text/plain": "<matplotlib.legend.Legend at 0x1e7620cbdc0>"
     },
     "execution_count": 163,
     "metadata": {},
     "output_type": "execute_result"
    },
    {
     "data": {
      "text/plain": "<Figure size 432x288 with 1 Axes>",
      "image/png": "[encoded data removed]"
     },
     "metadata": {
      "needs_background": "light"
     },
     "output_type": "display_data"
    }
   ],
   "source": [
    "bins = np.linspace(1, N, 46)\n",
    "plt.hist(x=bins[:-1], bins=bins, weights=percents['G'] - 0.25, label='G', bottom=0.25)\n",
    "plt.hist(x=bins[:-1], bins=bins, weights=percents['C'] - 0.25, label='C', bottom=0.25)\n",
    "plt.legend()"
   ],
   "metadata": {
    "collapsed": false,
    "pycharm": {
     "name": "#%%\n"
    }
   }
  },
  {
   "cell_type": "code",
   "execution_count": 162,
   "outputs": [
    {
     "data": {
      "text/plain": "<matplotlib.legend.Legend at 0x1e7620521a0>"
     },
     "execution_count": 162,
     "metadata": {},
     "output_type": "execute_result"
    },
    {
     "data": {
      "text/plain": "<Figure size 432x288 with 1 Axes>",
      "image/png": "[encoded data removed]"
     },
     "metadata": {
      "needs_background": "light"
     },
     "output_type": "display_data"
    }
   ],
   "source": [
    "plt.hist(x=bins[:-1], bins=bins, weights=percents['A'] - 0.25, label='A', bottom=0.25)\n",
    "plt.hist(x=bins[:-1], bins=bins, weights=percents['T'] - 0.25, label='T', bottom=0.25)\n",
    "plt.legend()"
   ],
   "metadata": {
    "collapsed": false,
    "pycharm": {
     "name": "#%%\n"
    }
   }
  },
  {
   "cell_type": "code",
   "execution_count": 164,
   "outputs": [
    {
     "data": {
      "text/plain": "<matplotlib.legend.Legend at 0x1e761fd5f00>"
     },
     "execution_count": 164,
     "metadata": {},
     "output_type": "execute_result"
    },
    {
     "data": {
      "text/plain": "<Figure size 432x288 with 1 Axes>",
      "image/png": "[encoded data removed]"
     },
     "metadata": {
      "needs_background": "light"
     },
     "output_type": "display_data"
    }
   ],
   "source": [
    "bins = np.linspace(1, N, 46)\n",
    "plt.hist(x=bins[:-1], bins=bins, weights=percents['G'] - 0.25, label='G', bottom=0.25)\n",
    "plt.hist(x=bins[:-1], bins=bins, weights=percents['C'] - 0.25, label='C', bottom=0.25)\n",
    "plt.hist(x=bins[:-1], bins=bins, weights=percents['A'] - 0.25, label='A', bottom=0.25)\n",
    "plt.hist(x=bins[:-1], bins=bins, weights=percents['T'] - 0.25, label='T', bottom=0.25)\n",
    "plt.legend()"
   ],
   "metadata": {
    "collapsed": false,
    "pycharm": {
     "name": "#%%\n"
    }
   }
  },
  {
   "cell_type": "markdown",
   "source": [
    "### GC-content Skew"
   ],
   "metadata": {
    "collapsed": false,
    "pycharm": {
     "name": "#%% md\n"
    }
   }
  },
  {
   "cell_type": "code",
   "execution_count": 165,
   "outputs": [],
   "source": [
    "skew = [0]\n",
    "for i in range(N):\n",
    "    if genome[i] == 'G':\n",
    "        skew.append(skew[i] + 1)\n",
    "    elif genome[i] == 'C':\n",
    "        skew.append(skew[i] - 1)\n",
    "    else:\n",
    "        skew.append(skew[i])"
   ],
   "metadata": {
    "collapsed": false,
    "pycharm": {
     "name": "#%%\n"
    }
   }
  },
  {
   "cell_type": "code",
   "execution_count": 174,
   "outputs": [
    {
     "name": "stdout",
     "output_type": "stream",
     "text": [
      "position of minimum skew: 3925597\n"
     ]
    },
    {
     "data": {
      "text/plain": "<Figure size 432x288 with 1 Axes>",
      "image/png": "[encoded data removed]"
     },
     "metadata": {
      "needs_background": "light"
     },
     "output_type": "display_data"
    }
   ],
   "source": [
    "plt.plot(range(len(skew)), skew)\n",
    "plt.plot(skew.index(min(skew)), min(skew), 'o')\n",
    "print(f'position of minimum skew: {skew.index(min(skew))}')"
   ],
   "metadata": {
    "collapsed": false,
    "pycharm": {
     "name": "#%%\n"
    }
   }
  },
  {
   "cell_type": "markdown",
   "source": [
    "## Salmonela"
   ],
   "metadata": {
    "collapsed": false,
    "pycharm": {
     "name": "#%% md\n"
    }
   }
  },
  {
   "cell_type": "code",
   "execution_count": 193,
   "outputs": [],
   "source": [
    "# Сделаем функцию для форматирования файла\n",
    "def genome_from_fna(file_name):\n",
    "    with open(file_name, 'r') as f:\n",
    "        file = f.read()\n",
    "    end_of_capt = file.find('\\n')\n",
    "    genome = file[end_of_capt + 1:].replace('\\n', '')\n",
    "    return genome"
   ],
   "metadata": {
    "collapsed": false,
    "pycharm": {
     "name": "#%%\n"
    }
   }
  },
  {
   "cell_type": "code",
   "execution_count": 197,
   "outputs": [
    {
     "data": {
      "text/plain": "'AGAGATTACGTCTGGTTGCAAGAGATCATGACAGGGGGAATTGGTTGAAAATAAATATATCGCCAGCAGCACATGAACAAGTTTCGGAATGTGATCAATT'"
     },
     "execution_count": 197,
     "metadata": {},
     "output_type": "execute_result"
    }
   ],
   "source": [
    "genome = genome_from_fna('salmonela.fna')\n",
    "genome[:100]"
   ],
   "metadata": {
    "collapsed": false,
    "pycharm": {
     "name": "#%%\n"
    }
   }
  },
  {
   "cell_type": "code",
   "execution_count": 195,
   "outputs": [],
   "source": [
    "# Сделаем функцию для поиска skew и его минимума\n",
    "\n",
    "def calculate_skew(genome):\n",
    "    \"\"\"\n",
    "    TODO: Добавить документацию и аннотацию типов\n",
    "    :param genome:\n",
    "    :return:\n",
    "    \"\"\"\n",
    "    skew = [0]\n",
    "    for i in range(len(genome)):\n",
    "        if genome[i] == 'G':\n",
    "            skew.append(skew[i] + 1)\n",
    "        elif genome[i] == 'C':\n",
    "            skew.append(skew[i] - 1)\n",
    "        else:\n",
    "            skew.append(skew[i])\n",
    "    return skew, skew.index(min(skew))"
   ],
   "metadata": {
    "collapsed": false,
    "pycharm": {
     "name": "#%%\n"
    }
   }
  },
  {
   "cell_type": "code",
   "execution_count": 196,
   "outputs": [
    {
     "name": "stdout",
     "output_type": "stream",
     "text": [
      "position of minimum skew: 4084377\n"
     ]
    },
    {
     "data": {
      "text/plain": "<Figure size 432x288 with 1 Axes>",
      "image/png": "[encoded data removed]"
     },
     "metadata": {
      "needs_background": "light"
     },
     "output_type": "display_data"
    }
   ],
   "source": [
    "skew, min_pos = calculate_skew(genome)\n",
    "plt.plot(range(len(skew)), skew)\n",
    "plt.plot(min_pos, skew[min_pos], 'o')\n",
    "print(f'position of minimum skew: {min_pos}')"
   ],
   "metadata": {
    "collapsed": false,
    "pycharm": {
     "name": "#%%\n"
    }
   }
  },
  {
   "cell_type": "markdown",
   "source": [
    "## Thermotoga"
   ],
   "metadata": {
    "collapsed": false,
    "pycharm": {
     "name": "#%% md\n"
    }
   }
  },
  {
   "cell_type": "code",
   "execution_count": 198,
   "outputs": [
    {
     "data": {
      "text/plain": "'AGTTGGACGAAGGTTCTGATCCCTACAGAACACCTGCCCTGAAATGGTCCCTCAGGAGAATCATCGAGGAGTTAACCGCTCAGGGCTCTTTTTGAAATCT'"
     },
     "execution_count": 198,
     "metadata": {},
     "output_type": "execute_result"
    }
   ],
   "source": [
    "genome = genome_from_fna('thermotoga.fna')\n",
    "genome[:100]"
   ],
   "metadata": {
    "collapsed": false,
    "pycharm": {
     "name": "#%%\n"
    }
   }
  },
  {
   "cell_type": "code",
   "execution_count": 199,
   "outputs": [
    {
     "name": "stdout",
     "output_type": "stream",
     "text": [
      "position of minimum skew: 787199\n"
     ]
    },
    {
     "data": {
      "text/plain": "<Figure size 432x288 with 1 Axes>",
      "image/png": "[encoded data removed]"
     },
     "metadata": {
      "needs_background": "light"
     },
     "output_type": "display_data"
    }
   ],
   "source": [
    "skew, min_pos = calculate_skew(genome)\n",
    "plt.plot(range(len(skew)), skew)\n",
    "plt.plot(min_pos, skew[min_pos], 'o')\n",
    "print(f'position of minimum skew: {min_pos}')"
   ],
   "metadata": {
    "collapsed": false,
    "pycharm": {
     "name": "#%%\n"
    }
   }
  }
 ],
 "metadata": {
  "kernelspec": {
   "display_name": "Python 3",
   "language": "python",
   "name": "python3"
  },
  "language_info": {
   "codemirror_mode": {
    "name": "ipython",
    "version": 2
   },
   "file_extension": ".py",
   "mimetype": "text/x-python",
   "name": "python",
   "nbconvert_exporter": "python",
   "pygments_lexer": "ipython2",
   "version": "2.7.6"
  }
 },
 "nbformat": 4,
 "nbformat_minor": 0
}